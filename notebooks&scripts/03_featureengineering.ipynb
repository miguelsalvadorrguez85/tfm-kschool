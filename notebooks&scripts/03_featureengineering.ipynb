{
 "cells": [
  {
   "cell_type": "code",
   "execution_count": null,
   "metadata": {},
   "outputs": [],
   "source": [
    "import pandas as pd\n"
   ]
  },
  {
   "cell_type": "code",
   "execution_count": 4,
   "metadata": {},
   "outputs": [],
   "source": [
    "\n",
    "data = pd.read_csv('df_con_grid.csv')\n"
   ]
  },
  {
   "cell_type": "markdown",
   "metadata": {},
   "source": [
    "### Crear variables"
   ]
  },
  {
   "cell_type": "code",
   "execution_count": 5,
   "metadata": {},
   "outputs": [
    {
     "name": "stdout",
     "output_type": "stream",
     "text": [
      "Índice de riesgo de incendio calculado y guardado en 'df_con_grid_fire.csv'\n"
     ]
    }
   ],
   "source": [
    "\n",
    "# Definir la normalización de las variables\n",
    "\n",
    "\n",
    "#Consideramos que el riesgo aumenta conforme la temperatura se aleja de un valor seguro, \n",
    "# por ejemplo, 30°C. A partir de los 40°C ya el riesgo se vuelve muy alto.\n",
    "def Temperatura_normalizada(temperature):\n",
    "    return max(0, min(1, (temperature - 30) / (40 - 30)))\n",
    "\n",
    "#El riesgo de incendio crece cuando la humedad es muy baja. \n",
    "# Consideramos que la humedad es más peligrosa por debajo de un 30%.\n",
    "def Humedad_normalizada(humidity):\n",
    "    return max(0, min(1, (30 - humidity) / 30))\n",
    "\n",
    "#La velocidad del viento también tiene un impacto importante. \n",
    "# Por ejemplo, un viento superior a 30 km/h puede hacer que un incendio se propague rápidamente.\n",
    "def Viento_normalizado(wind_speed):\n",
    "    return max(0, min(1, (wind_speed - 30) / (60 - 30)))\n",
    "\n",
    "# Crear la nueva variable 'fire_risk_index' con la fórmula ponderada segun la importancia relativa que he considerado \n",
    "# donde he dado menos importancia al la velocidad del viendo que las otras dos variables T y H\n",
    "def calculate_fire_risk(row):\n",
    "    Temperature = Temperatura_normalizada(row['Temperature (C)']) \n",
    "    Humedad = Humedad_normalizada(row['Humidity (%)']) \n",
    "    Viento = Viento_normalizado(row['V_VIENTO']) \n",
    "    \n",
    "    # Índice ponderado 30/30/30\n",
    "    fire_risk_index = 0.4 * Temperature + 0.4 * Humedad + 0.2 * Viento\n",
    "    \n",
    "    return fire_risk_index\n",
    "\n",
    "# Crear la nueva columna en el DataFrame\n",
    "data['fire_risk_index'] = data.apply(calculate_fire_risk, axis=1)\n",
    "\n",
    "# Guardar el DataFrame actualizado en un nuevo archivo CSV\n",
    "output_file = 'df_con_grid_fire.csv'  #\n",
    "data.to_csv(output_file, index=False)\n",
    "\n",
    "print(f\"Índice de riesgo de incendio calculado y guardado en '{output_file}'\")\n"
   ]
  },
  {
   "cell_type": "code",
   "execution_count": 6,
   "metadata": {},
   "outputs": [
    {
     "name": "stdout",
     "output_type": "stream",
     "text": [
      "Índice de riesgo de incendio calculado y guardado en 'df_con_grid_fire.csv'\n"
     ]
    }
   ],
   "source": [
    "# Feature 1: \n",
    "data['difficulty_viento_humedad'] = data['DifficultyIndex'] * (data['V_VIENTO'] + data['Humidity (%)'])\n",
    "\n",
    "# Feature 2:\n",
    "data['fire_risk_fuel'] = data['fire_risk_index'] * (data['FuelLoadIndex'] / 100)\n",
    "\n",
    "# Feature 3: \n",
    "data['fire_risk_landcover'] = data['fire_risk_index'] * data['LandCover']\n",
    "\n",
    "\n",
    "output_file = 'df_con_grid_fire.csv'  #\n",
    "data.to_csv(output_file, index=False)\n",
    "\n",
    "print(f\"Índice de riesgo de incendio calculado y guardado en '{output_file}'\")"
   ]
  },
  {
   "cell_type": "markdown",
   "metadata": {},
   "source": [
    "Creo a continuacion las variables de tipo clase para predecir si hay que madar o no aviones, buldozzer o helicopteros"
   ]
  },
  {
   "cell_type": "code",
   "execution_count": 7,
   "metadata": {},
   "outputs": [],
   "source": [
    "\n",
    "data = pd.read_csv('df_con_grid_fire.csv')"
   ]
  },
  {
   "cell_type": "code",
   "execution_count": 8,
   "metadata": {},
   "outputs": [],
   "source": [
    "\n",
    "\n",
    "def AvionAnfibio(range_str):\n",
    "    if range_str == 0:\n",
    "        return 0\n",
    "    \n",
    "    else:\n",
    "        return 1\n",
    "\n",
    "\n",
    "data['AVIANFNUM_CLASS'] = data['AVIANFNUM'].apply(AvionAnfibio)"
   ]
  },
  {
   "cell_type": "code",
   "execution_count": 9,
   "metadata": {},
   "outputs": [],
   "source": [
    "def AvionTerre(range_str):\n",
    "    if range_str == 0:\n",
    "        return 0\n",
    "    \n",
    "    else:\n",
    "        return 1\n",
    "\n",
    "\n",
    "data['AVICARNUM_CLASS'] = data['AVICARNUM'].apply(AvionTerre)"
   ]
  },
  {
   "cell_type": "code",
   "execution_count": 10,
   "metadata": {},
   "outputs": [
    {
     "data": {
      "text/plain": [
       "BULDOZZER_CLASS  BULDOZZER\n",
       "0                0            10471\n",
       "1                1               34\n",
       "                 2               12\n",
       "                 3                5\n",
       "                 25               2\n",
       "                 5                1\n",
       "                 10               1\n",
       "Name: count, dtype: int64"
      ]
     },
     "execution_count": 10,
     "metadata": {},
     "output_type": "execute_result"
    }
   ],
   "source": [
    "def map_buldozzer(range_str):\n",
    "    if range_str == 0:\n",
    "        return 0\n",
    "    \n",
    "    else:\n",
    "        return 1\n",
    "\n",
    "\n",
    "data['BULDOZZER_CLASS'] = data['BULDOZZER'].apply(map_buldozzer)\n",
    "\n",
    "data[['BULDOZZER_CLASS', 'BULDOZZER']].value_counts()"
   ]
  },
  {
   "cell_type": "code",
   "execution_count": 11,
   "metadata": {},
   "outputs": [],
   "source": [
    "def map_AUTOBOMBA(range_str):\n",
    "    if range_str == 0:\n",
    "        return 0\n",
    "    \n",
    "    else:\n",
    "        return 1\n",
    "\n",
    "\n",
    "data['AUTOBOMBA_CLASS'] = data['AUTOBOMBA'].apply(map_AUTOBOMBA)"
   ]
  }
 ],
 "metadata": {
  "kernelspec": {
   "display_name": "Python 3",
   "language": "python",
   "name": "python3"
  },
  "language_info": {
   "codemirror_mode": {
    "name": "ipython",
    "version": 3
   },
   "file_extension": ".py",
   "mimetype": "text/x-python",
   "name": "python",
   "nbconvert_exporter": "python",
   "pygments_lexer": "ipython3",
   "version": "3.12.6"
  }
 },
 "nbformat": 4,
 "nbformat_minor": 2
}
