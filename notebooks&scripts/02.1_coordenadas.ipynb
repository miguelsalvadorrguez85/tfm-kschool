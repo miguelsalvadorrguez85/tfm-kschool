{
 "cells": [
  {
   "cell_type": "markdown",
   "metadata": {},
   "source": [
    "# cambio de tipo de coordenada UTM\n"
   ]
  },
  {
   "cell_type": "code",
   "execution_count": 7,
   "metadata": {},
   "outputs": [],
   "source": [
    "import pandas as pd\n",
    "from pyproj import Proj, transform"
   ]
  },
  {
   "cell_type": "markdown",
   "metadata": {},
   "source": [
    "Para poder trabajar con los datos en GEE lo primero qeu se debe de hacer es crear unas cordenadas que puedan leerse por GEE. Para ello pasaremos las coordenadas ``'UTM'`` a coordenadas de ``latitud/longuitud``"
   ]
  },
  {
   "cell_type": "code",
   "execution_count": 8,
   "metadata": {},
   "outputs": [
    {
     "name": "stdout",
     "output_type": "stream",
     "text": [
      "Requirement already satisfied: pyproj in /Library/Frameworks/Python.framework/Versions/3.12/lib/python3.12/site-packages (3.7.0)\n",
      "Requirement already satisfied: certifi in /Library/Frameworks/Python.framework/Versions/3.12/lib/python3.12/site-packages (from pyproj) (2025.1.31)\n"
     ]
    }
   ],
   "source": [
    "!pip install pyproj"
   ]
  },
  {
   "cell_type": "markdown",
   "metadata": {},
   "source": [
    "### Introduccion de columna con `º, min, seg`"
   ]
  },
  {
   "cell_type": "code",
   "execution_count": 89,
   "metadata": {},
   "outputs": [
    {
     "data": {
      "text/html": [
       "<div>\n",
       "<style scoped>\n",
       "    .dataframe tbody tr th:only-of-type {\n",
       "        vertical-align: middle;\n",
       "    }\n",
       "\n",
       "    .dataframe tbody tr th {\n",
       "        vertical-align: top;\n",
       "    }\n",
       "\n",
       "    .dataframe thead th {\n",
       "        text-align: right;\n",
       "    }\n",
       "</style>\n",
       "<table border=\"1\" class=\"dataframe\">\n",
       "  <thead>\n",
       "    <tr style=\"text-align: right;\">\n",
       "      <th></th>\n",
       "      <th>ET_ID</th>\n",
       "      <th>X</th>\n",
       "      <th>Y</th>\n",
       "      <th>Date</th>\n",
       "      <th>Time</th>\n",
       "    </tr>\n",
       "  </thead>\n",
       "  <tbody>\n",
       "    <tr>\n",
       "      <th>10521</th>\n",
       "      <td>10717</td>\n",
       "      <td>760226.4911</td>\n",
       "      <td>4455304.996</td>\n",
       "      <td>1995-04-17</td>\n",
       "      <td>5:00:00</td>\n",
       "    </tr>\n",
       "    <tr>\n",
       "      <th>10522</th>\n",
       "      <td>10718</td>\n",
       "      <td>737612.7840</td>\n",
       "      <td>4403833.345</td>\n",
       "      <td>1995-06-09</td>\n",
       "      <td>13:30:00</td>\n",
       "    </tr>\n",
       "    <tr>\n",
       "      <th>10523</th>\n",
       "      <td>10719</td>\n",
       "      <td>737425.1413</td>\n",
       "      <td>4438759.591</td>\n",
       "      <td>1995-05-30</td>\n",
       "      <td>17:24:00</td>\n",
       "    </tr>\n",
       "    <tr>\n",
       "      <th>10524</th>\n",
       "      <td>10720</td>\n",
       "      <td>733435.7536</td>\n",
       "      <td>4327179.033</td>\n",
       "      <td>1995-05-28</td>\n",
       "      <td>14:20:00</td>\n",
       "    </tr>\n",
       "    <tr>\n",
       "      <th>10525</th>\n",
       "      <td>10721</td>\n",
       "      <td>708406.2547</td>\n",
       "      <td>4323244.435</td>\n",
       "      <td>1995-04-30</td>\n",
       "      <td>14:20:00</td>\n",
       "    </tr>\n",
       "  </tbody>\n",
       "</table>\n",
       "</div>"
      ],
      "text/plain": [
       "       ET_ID            X            Y        Date      Time\n",
       "10521  10717  760226.4911  4455304.996  1995-04-17   5:00:00\n",
       "10522  10718  737612.7840  4403833.345  1995-06-09  13:30:00\n",
       "10523  10719  737425.1413  4438759.591  1995-05-30  17:24:00\n",
       "10524  10720  733435.7536  4327179.033  1995-05-28  14:20:00\n",
       "10525  10721  708406.2547  4323244.435  1995-04-30  14:20:00"
      ]
     },
     "execution_count": 89,
     "metadata": {},
     "output_type": "execute_result"
    }
   ],
   "source": [
    "\n",
    "input_file = 'fechaXY.csv' \n",
    "output_file = 'coordenadas_geograficas_con_dms_grid.csv'\n",
    "df = pd.read_csv(input_file, encoding='utf-8-sig', sep=';')\n",
    "\n",
    "df.tail()"
   ]
  },
  {
   "cell_type": "code",
   "execution_count": 90,
   "metadata": {},
   "outputs": [
    {
     "name": "stderr",
     "output_type": "stream",
     "text": [
      "/var/folders/mq/qldjlz6d2qnfrl2d278n8dw40000gn/T/ipykernel_1182/3998465395.py:33: FutureWarning: This function is deprecated. See: https://pyproj4.github.io/pyproj/stable/gotchas.html#upgrading-to-pyproj-2-from-pyproj-1\n",
      "  lon, lat = transform(utm_proj, geo_proj, x, y)\n"
     ]
    },
    {
     "name": "stdout",
     "output_type": "stream",
     "text": [
      "Transformación completada. El archivo se ha guardado en coordenadas_geograficas_con_dms_grid.csv\n"
     ]
    }
   ],
   "source": [
    "\n",
    "\n",
    "# Definir la proyección UTM para la zona 30N (para Valencia, España)\n",
    "utm_proj = Proj(proj='utm', zone=30, datum='WGS84', north=True)\n",
    "\n",
    "# Definir la proyección geográfica (WGS84)\n",
    "geo_proj = Proj(proj='latlong', datum='WGS84')\n",
    "\n",
    "# Grados decimales\n",
    "def dec_to_dms(degrees):\n",
    "    is_negative = degrees < 0\n",
    "    degrees = abs(degrees)\n",
    "    \n",
    "    # grados, minutos y segundos\n",
    "    d = int(degrees)  # Grados\n",
    "    m = int((degrees - d) * 60)  # Minutos\n",
    "    s = (degrees - d - m / 60) * 3600  # Segundos\n",
    "    s = round(s, 2)  # Redondear a dos decimales\n",
    "    \n",
    "    if is_negative:\n",
    "        return f\"-{d}° {m}' {s}\\\"\"\n",
    "    else:\n",
    "        return f\"{d}° {m}' {s}\\\"\"\n",
    "\n",
    "\n",
    "\n",
    "latitudes = []\n",
    "longitudes = []\n",
    "latitudes_dms = []\n",
    "longitudes_dms = []\n",
    "\n",
    "# Convertir las coordenadas \n",
    "for index, row in df.iterrows():\n",
    "    x, y = row['X'], row['Y']\n",
    "    lon, lat = transform(utm_proj, geo_proj, x, y)\n",
    "    \n",
    "\n",
    "    lat_dms = dec_to_dms(lat)\n",
    "    lon_dms = dec_to_dms(lon)\n",
    "    \n",
    "\n",
    "    latitudes.append(lat)\n",
    "    longitudes.append(lon)\n",
    "    latitudes_dms.append(lat_dms)\n",
    "    longitudes_dms.append(lon_dms)\n",
    "\n",
    "# Agregar las coordenadas geográficas y en DMS \n",
    "df['Longitude'] = longitudes\n",
    "df['Latitude'] = latitudes\n",
    "#df['Longitude_DMS'] = longitudes_dms\n",
    "#df['Latitude_DMS'] = latitudes_dms\n",
    "\n",
    "# Guardar el DataFrame con las coordenadas geográficas y DMS \n",
    "df.to_csv(output_file, index=False)\n",
    "\n",
    "print(f\"Transformación completada. El archivo se ha guardado en {output_file}\")\n"
   ]
  },
  {
   "cell_type": "markdown",
   "metadata": {},
   "source": [
    "### Modificar formato de DateTime segun ISO `2003-01-09T15:20:00.000Z`"
   ]
  },
  {
   "cell_type": "code",
   "execution_count": 91,
   "metadata": {},
   "outputs": [
    {
     "name": "stdout",
     "output_type": "stream",
     "text": [
      "Archivo procesado guardado en: coordenadas_geograficas_con_dms_G(!).csv\n"
     ]
    }
   ],
   "source": [
    "\n",
    "file_path = \"coordenadas_geograficas_con_dms_grid.csv\"  \n",
    "output_file_path = \"coordenadas_geograficas_con_dms_G(!).csv\" \n",
    "\n",
    "df = pd.read_csv(file_path)\n",
    "\n",
    "if 'Date' not in df.columns or 'Time' not in df.columns:\n",
    "    raise ValueError(\"El archivo CSV debe contener las columnas 'Date' y 'Time'.\")\n",
    "\n",
    "\n",
    "df['DateTime'] = pd.to_datetime(df['Date'] + 'T' + df['Time'], format='%Y-%m-%dT%H:%M:%S')\n",
    "\n",
    "\n",
    "df['DateTime'] = df['DateTime'].dt.strftime('%Y-%m-%dT%H:%M:%S.%f')  # Incluye milisegundos\n",
    "df['DateTime'] = df['DateTime'].str[:-3] + 'Z'  # Ajusta a 3 decimales y agrega Z para UTC\n",
    "\n",
    "# Guardar el archivo CSV con la columna DateTime\n",
    "df.to_csv(output_file_path, index=False)\n",
    "\n",
    "print(f\"Archivo procesado guardado en: {output_file_path}\")\n"
   ]
  },
  {
   "cell_type": "markdown",
   "metadata": {},
   "source": [
    "### Introduccion de indice"
   ]
  },
  {
   "cell_type": "code",
   "execution_count": null,
   "metadata": {},
   "outputs": [
    {
     "name": "stdout",
     "output_type": "stream",
     "text": [
      "Archivo con índice guardado en: coordenadas.csv\n"
     ]
    }
   ],
   "source": [
    "import pandas as pd\n",
    "\n",
    "# Cargar el archivo CSV\n",
    "file_path = \"coordenadas_geograficas_con_dms_G(!).csv\"\n",
    "df = pd.read_csv(file_path)\n",
    "\n",
    "# Añadir un índice\n",
    "df['Index'] = df.index\n",
    "\n",
    "# Guardar el archivo modificado\n",
    "output_path = \"coordenadasG.csv\"\n",
    "df.to_csv(output_path, index=False)\n",
    "print(f\"Archivo con índice guardado en: {output_path}\")\n"
   ]
  }
 ],
 "metadata": {
  "kernelspec": {
   "display_name": "Python 3",
   "language": "python",
   "name": "python3"
  },
  "language_info": {
   "codemirror_mode": {
    "name": "ipython",
    "version": 3
   },
   "file_extension": ".py",
   "mimetype": "text/x-python",
   "name": "python",
   "nbconvert_exporter": "python",
   "pygments_lexer": "ipython3",
   "version": "3.12.6"
  }
 },
 "nbformat": 4,
 "nbformat_minor": 2
}
